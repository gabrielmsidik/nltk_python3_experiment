{
 "cells": [
  {
   "cell_type": "markdown",
   "metadata": {},
   "source": [
    "# song2Vec"
   ]
  },
  {
   "cell_type": "markdown",
   "metadata": {},
   "source": [
    "© Yuriy Guts, 2016"
   ]
  },
  {
   "cell_type": "markdown",
   "metadata": {},
   "source": [
    "Using only the raw text of [A Song of Ice and Fire](https://en.wikipedia.org/wiki/A_Song_of_Ice_and_Fire), we'll derive and explore the semantic properties of its words.\n",
    "\n",
    "#### Note: Converted to run on Python 3 and gensim-3.4.0\n"
   ]
  },
  {
   "cell_type": "markdown",
   "metadata": {},
   "source": [
    "## Imports"
   ]
  },
  {
   "cell_type": "code",
   "execution_count": 1,
   "metadata": {},
   "outputs": [],
   "source": [
    "import codecs\n",
    "import glob\n",
    "import logging\n",
    "import multiprocessing\n",
    "import os\n",
    "import pprint\n",
    "import re"
   ]
  },
  {
   "cell_type": "code",
   "execution_count": 2,
   "metadata": {},
   "outputs": [],
   "source": [
    "import nltk\n",
    "import gensim.models.word2vec as w2v\n",
    "import sklearn.manifold\n",
    "import numpy as np\n",
    "import matplotlib.pyplot as plt\n",
    "import pandas as pd\n",
    "import seaborn as sns"
   ]
  },
  {
   "cell_type": "code",
   "execution_count": 3,
   "metadata": {},
   "outputs": [
    {
     "name": "stdout",
     "output_type": "stream",
     "text": [
      "Populating the interactive namespace from numpy and matplotlib\n"
     ]
    }
   ],
   "source": [
    "%pylab inline"
   ]
  },
  {
   "cell_type": "markdown",
   "metadata": {},
   "source": [
    "**Set up logging**"
   ]
  },
  {
   "cell_type": "code",
   "execution_count": 4,
   "metadata": {},
   "outputs": [],
   "source": [
    "logging.basicConfig(format='%(asctime)s : %(levelname)s : %(message)s', level=logging.INFO)"
   ]
  },
  {
   "cell_type": "markdown",
   "metadata": {
    "collapsed": true
   },
   "source": [
    "**Download NLTK tokenizer models (only the first time)**"
   ]
  },
  {
   "cell_type": "code",
   "execution_count": 5,
   "metadata": {},
   "outputs": [
    {
     "name": "stdout",
     "output_type": "stream",
     "text": [
      "[nltk_data] Downloading package punkt to\n",
      "[nltk_data]     /Users/gabrielmanuelsidik/nltk_data...\n",
      "[nltk_data]   Package punkt is already up-to-date!\n",
      "[nltk_data] Downloading package stopwords to\n",
      "[nltk_data]     /Users/gabrielmanuelsidik/nltk_data...\n",
      "[nltk_data]   Package stopwords is already up-to-date!\n"
     ]
    },
    {
     "data": {
      "text/plain": [
       "True"
      ]
     },
     "execution_count": 5,
     "metadata": {},
     "output_type": "execute_result"
    }
   ],
   "source": [
    "nltk.download(\"punkt\")\n",
    "nltk.download(\"stopwords\")"
   ]
  },
  {
   "cell_type": "markdown",
   "metadata": {},
   "source": [
    "## Prepare Corpus"
   ]
  },
  {
   "cell_type": "markdown",
   "metadata": {},
   "source": [
    "**Load books from files**"
   ]
  },
  {
   "cell_type": "code",
   "execution_count": 6,
   "metadata": {},
   "outputs": [],
   "source": [
    "book_filenames = sorted(glob.glob(\"data/*.txt\"))\n",
    "\n",
    "# remove sos.txt\n",
    "book_filenames = book_filenames[5:]"
   ]
  },
  {
   "cell_type": "code",
   "execution_count": 7,
   "metadata": {},
   "outputs": [
    {
     "name": "stdout",
     "output_type": "stream",
     "text": [
      "Found books:\n",
      "['data/sos.txt']\n"
     ]
    }
   ],
   "source": [
    "print(\"Found books:\")\n",
    "print(book_filenames)\n"
   ]
  },
  {
   "cell_type": "markdown",
   "metadata": {},
   "source": [
    "**Combine the books into one string**"
   ]
  },
  {
   "cell_type": "code",
   "execution_count": 8,
   "metadata": {},
   "outputs": [
    {
     "name": "stdout",
     "output_type": "stream",
     "text": [
      "corpus_raw \n",
      "Reading 'data/sos.txt'...\n",
      "Corpus is now 1151 characters long\n",
      "\n"
     ]
    }
   ],
   "source": [
    "corpus_raw = u\"\"\n",
    "print(\"corpus_raw\", corpus_raw)\n",
    "for book_filename in book_filenames:\n",
    "    print(\"Reading '{0}'...\".format(book_filename))\n",
    "    with codecs.open(book_filename, \"r\", \"utf-8\") as book_file:\n",
    "        corpus_raw += book_file.read()\n",
    "    print(\"Corpus is now {0} characters long\".format(len(corpus_raw)))\n",
    "    print()"
   ]
  },
  {
   "cell_type": "markdown",
   "metadata": {},
   "source": [
    "**Split the corpus into sentences**"
   ]
  },
  {
   "cell_type": "code",
   "execution_count": 9,
   "metadata": {},
   "outputs": [],
   "source": [
    "tokenizer = nltk.data.load('tokenizers/punkt/english.pickle')"
   ]
  },
  {
   "cell_type": "code",
   "execution_count": 51,
   "metadata": {},
   "outputs": [
    {
     "name": "stdout",
     "output_type": "stream",
     "text": [
      "I've come to talk with you again\n"
     ]
    }
   ],
   "source": [
    "raw_sentences = tokenizer.tokenize(corpus_raw)\n",
    "raw_sentences = raw_sentences[0].split(\"\\n\")\n",
    "print(raw_sentences[1])"
   ]
  },
  {
   "cell_type": "code",
   "execution_count": 54,
   "metadata": {},
   "outputs": [],
   "source": [
    "#convert into a list of words\n",
    "#remove unnecessary,, split into words, no hyphens\n",
    "#list of words\n",
    "\n",
    "def sentence_to_wordlist(raw):\n",
    "    clean = re.sub(\"[^a-zA-Z]\",\" \", raw)\n",
    "    words = clean.split()\n",
    "    return words"
   ]
  },
  {
   "cell_type": "code",
   "execution_count": 58,
   "metadata": {},
   "outputs": [
    {
     "name": "stdout",
     "output_type": "stream",
     "text": [
      "Hello darkness, my old friend\n",
      "[['Hello', 'darkness', 'my', 'old', 'friend']]\n",
      "I've come to talk with you again\n",
      "[['Hello', 'darkness', 'my', 'old', 'friend'], ['I', 've', 'come', 'to', 'talk', 'with', 'you', 'again']]\n",
      "Because a vision softly creeping\n",
      "[['Hello', 'darkness', 'my', 'old', 'friend'], ['I', 've', 'come', 'to', 'talk', 'with', 'you', 'again'], ['Because', 'a', 'vision', 'softly', 'creeping']]\n",
      "Left its seeds while I was sleeping\n",
      "[['Hello', 'darkness', 'my', 'old', 'friend'], ['I', 've', 'come', 'to', 'talk', 'with', 'you', 'again'], ['Because', 'a', 'vision', 'softly', 'creeping'], ['Left', 'its', 'seeds', 'while', 'I', 'was', 'sleeping']]\n",
      "And the vision that was planted in my brain\n",
      "[['Hello', 'darkness', 'my', 'old', 'friend'], ['I', 've', 'come', 'to', 'talk', 'with', 'you', 'again'], ['Because', 'a', 'vision', 'softly', 'creeping'], ['Left', 'its', 'seeds', 'while', 'I', 'was', 'sleeping'], ['And', 'the', 'vision', 'that', 'was', 'planted', 'in', 'my', 'brain']]\n",
      "Still remains\n",
      "[['Hello', 'darkness', 'my', 'old', 'friend'], ['I', 've', 'come', 'to', 'talk', 'with', 'you', 'again'], ['Because', 'a', 'vision', 'softly', 'creeping'], ['Left', 'its', 'seeds', 'while', 'I', 'was', 'sleeping'], ['And', 'the', 'vision', 'that', 'was', 'planted', 'in', 'my', 'brain'], ['Still', 'remains']]\n",
      "Within the sound of silence\n",
      "[['Hello', 'darkness', 'my', 'old', 'friend'], ['I', 've', 'come', 'to', 'talk', 'with', 'you', 'again'], ['Because', 'a', 'vision', 'softly', 'creeping'], ['Left', 'its', 'seeds', 'while', 'I', 'was', 'sleeping'], ['And', 'the', 'vision', 'that', 'was', 'planted', 'in', 'my', 'brain'], ['Still', 'remains'], ['Within', 'the', 'sound', 'of', 'silence']]\n",
      "In restless dreams I walked alone\n",
      "[['Hello', 'darkness', 'my', 'old', 'friend'], ['I', 've', 'come', 'to', 'talk', 'with', 'you', 'again'], ['Because', 'a', 'vision', 'softly', 'creeping'], ['Left', 'its', 'seeds', 'while', 'I', 'was', 'sleeping'], ['And', 'the', 'vision', 'that', 'was', 'planted', 'in', 'my', 'brain'], ['Still', 'remains'], ['Within', 'the', 'sound', 'of', 'silence'], ['In', 'restless', 'dreams', 'I', 'walked', 'alone']]\n",
      "Narrow streets of cobblestone\n",
      "[['Hello', 'darkness', 'my', 'old', 'friend'], ['I', 've', 'come', 'to', 'talk', 'with', 'you', 'again'], ['Because', 'a', 'vision', 'softly', 'creeping'], ['Left', 'its', 'seeds', 'while', 'I', 'was', 'sleeping'], ['And', 'the', 'vision', 'that', 'was', 'planted', 'in', 'my', 'brain'], ['Still', 'remains'], ['Within', 'the', 'sound', 'of', 'silence'], ['In', 'restless', 'dreams', 'I', 'walked', 'alone'], ['Narrow', 'streets', 'of', 'cobblestone']]\n",
      "'Neath the halo of a street lamp\n",
      "[['Hello', 'darkness', 'my', 'old', 'friend'], ['I', 've', 'come', 'to', 'talk', 'with', 'you', 'again'], ['Because', 'a', 'vision', 'softly', 'creeping'], ['Left', 'its', 'seeds', 'while', 'I', 'was', 'sleeping'], ['And', 'the', 'vision', 'that', 'was', 'planted', 'in', 'my', 'brain'], ['Still', 'remains'], ['Within', 'the', 'sound', 'of', 'silence'], ['In', 'restless', 'dreams', 'I', 'walked', 'alone'], ['Narrow', 'streets', 'of', 'cobblestone'], ['Neath', 'the', 'halo', 'of', 'a', 'street', 'lamp']]\n",
      "I turned my collar to the cold and damp\n",
      "[['Hello', 'darkness', 'my', 'old', 'friend'], ['I', 've', 'come', 'to', 'talk', 'with', 'you', 'again'], ['Because', 'a', 'vision', 'softly', 'creeping'], ['Left', 'its', 'seeds', 'while', 'I', 'was', 'sleeping'], ['And', 'the', 'vision', 'that', 'was', 'planted', 'in', 'my', 'brain'], ['Still', 'remains'], ['Within', 'the', 'sound', 'of', 'silence'], ['In', 'restless', 'dreams', 'I', 'walked', 'alone'], ['Narrow', 'streets', 'of', 'cobblestone'], ['Neath', 'the', 'halo', 'of', 'a', 'street', 'lamp'], ['I', 'turned', 'my', 'collar', 'to', 'the', 'cold', 'and', 'damp']]\n",
      "When my eyes were stabbed by the flash of a neon light\n",
      "[['Hello', 'darkness', 'my', 'old', 'friend'], ['I', 've', 'come', 'to', 'talk', 'with', 'you', 'again'], ['Because', 'a', 'vision', 'softly', 'creeping'], ['Left', 'its', 'seeds', 'while', 'I', 'was', 'sleeping'], ['And', 'the', 'vision', 'that', 'was', 'planted', 'in', 'my', 'brain'], ['Still', 'remains'], ['Within', 'the', 'sound', 'of', 'silence'], ['In', 'restless', 'dreams', 'I', 'walked', 'alone'], ['Narrow', 'streets', 'of', 'cobblestone'], ['Neath', 'the', 'halo', 'of', 'a', 'street', 'lamp'], ['I', 'turned', 'my', 'collar', 'to', 'the', 'cold', 'and', 'damp'], ['When', 'my', 'eyes', 'were', 'stabbed', 'by', 'the', 'flash', 'of', 'a', 'neon', 'light']]\n",
      "That split the night\n",
      "[['Hello', 'darkness', 'my', 'old', 'friend'], ['I', 've', 'come', 'to', 'talk', 'with', 'you', 'again'], ['Because', 'a', 'vision', 'softly', 'creeping'], ['Left', 'its', 'seeds', 'while', 'I', 'was', 'sleeping'], ['And', 'the', 'vision', 'that', 'was', 'planted', 'in', 'my', 'brain'], ['Still', 'remains'], ['Within', 'the', 'sound', 'of', 'silence'], ['In', 'restless', 'dreams', 'I', 'walked', 'alone'], ['Narrow', 'streets', 'of', 'cobblestone'], ['Neath', 'the', 'halo', 'of', 'a', 'street', 'lamp'], ['I', 'turned', 'my', 'collar', 'to', 'the', 'cold', 'and', 'damp'], ['When', 'my', 'eyes', 'were', 'stabbed', 'by', 'the', 'flash', 'of', 'a', 'neon', 'light'], ['That', 'split', 'the', 'night']]\n",
      "And touched the sound of silence\n",
      "[['Hello', 'darkness', 'my', 'old', 'friend'], ['I', 've', 'come', 'to', 'talk', 'with', 'you', 'again'], ['Because', 'a', 'vision', 'softly', 'creeping'], ['Left', 'its', 'seeds', 'while', 'I', 'was', 'sleeping'], ['And', 'the', 'vision', 'that', 'was', 'planted', 'in', 'my', 'brain'], ['Still', 'remains'], ['Within', 'the', 'sound', 'of', 'silence'], ['In', 'restless', 'dreams', 'I', 'walked', 'alone'], ['Narrow', 'streets', 'of', 'cobblestone'], ['Neath', 'the', 'halo', 'of', 'a', 'street', 'lamp'], ['I', 'turned', 'my', 'collar', 'to', 'the', 'cold', 'and', 'damp'], ['When', 'my', 'eyes', 'were', 'stabbed', 'by', 'the', 'flash', 'of', 'a', 'neon', 'light'], ['That', 'split', 'the', 'night'], ['And', 'touched', 'the', 'sound', 'of', 'silence']]\n",
      "And in the naked light I saw\n",
      "[['Hello', 'darkness', 'my', 'old', 'friend'], ['I', 've', 'come', 'to', 'talk', 'with', 'you', 'again'], ['Because', 'a', 'vision', 'softly', 'creeping'], ['Left', 'its', 'seeds', 'while', 'I', 'was', 'sleeping'], ['And', 'the', 'vision', 'that', 'was', 'planted', 'in', 'my', 'brain'], ['Still', 'remains'], ['Within', 'the', 'sound', 'of', 'silence'], ['In', 'restless', 'dreams', 'I', 'walked', 'alone'], ['Narrow', 'streets', 'of', 'cobblestone'], ['Neath', 'the', 'halo', 'of', 'a', 'street', 'lamp'], ['I', 'turned', 'my', 'collar', 'to', 'the', 'cold', 'and', 'damp'], ['When', 'my', 'eyes', 'were', 'stabbed', 'by', 'the', 'flash', 'of', 'a', 'neon', 'light'], ['That', 'split', 'the', 'night'], ['And', 'touched', 'the', 'sound', 'of', 'silence'], ['And', 'in', 'the', 'naked', 'light', 'I', 'saw']]\n",
      "Ten thousand people, maybe more\n",
      "[['Hello', 'darkness', 'my', 'old', 'friend'], ['I', 've', 'come', 'to', 'talk', 'with', 'you', 'again'], ['Because', 'a', 'vision', 'softly', 'creeping'], ['Left', 'its', 'seeds', 'while', 'I', 'was', 'sleeping'], ['And', 'the', 'vision', 'that', 'was', 'planted', 'in', 'my', 'brain'], ['Still', 'remains'], ['Within', 'the', 'sound', 'of', 'silence'], ['In', 'restless', 'dreams', 'I', 'walked', 'alone'], ['Narrow', 'streets', 'of', 'cobblestone'], ['Neath', 'the', 'halo', 'of', 'a', 'street', 'lamp'], ['I', 'turned', 'my', 'collar', 'to', 'the', 'cold', 'and', 'damp'], ['When', 'my', 'eyes', 'were', 'stabbed', 'by', 'the', 'flash', 'of', 'a', 'neon', 'light'], ['That', 'split', 'the', 'night'], ['And', 'touched', 'the', 'sound', 'of', 'silence'], ['And', 'in', 'the', 'naked', 'light', 'I', 'saw'], ['Ten', 'thousand', 'people', 'maybe', 'more']]\n",
      "People talking without speaking\n",
      "[['Hello', 'darkness', 'my', 'old', 'friend'], ['I', 've', 'come', 'to', 'talk', 'with', 'you', 'again'], ['Because', 'a', 'vision', 'softly', 'creeping'], ['Left', 'its', 'seeds', 'while', 'I', 'was', 'sleeping'], ['And', 'the', 'vision', 'that', 'was', 'planted', 'in', 'my', 'brain'], ['Still', 'remains'], ['Within', 'the', 'sound', 'of', 'silence'], ['In', 'restless', 'dreams', 'I', 'walked', 'alone'], ['Narrow', 'streets', 'of', 'cobblestone'], ['Neath', 'the', 'halo', 'of', 'a', 'street', 'lamp'], ['I', 'turned', 'my', 'collar', 'to', 'the', 'cold', 'and', 'damp'], ['When', 'my', 'eyes', 'were', 'stabbed', 'by', 'the', 'flash', 'of', 'a', 'neon', 'light'], ['That', 'split', 'the', 'night'], ['And', 'touched', 'the', 'sound', 'of', 'silence'], ['And', 'in', 'the', 'naked', 'light', 'I', 'saw'], ['Ten', 'thousand', 'people', 'maybe', 'more'], ['People', 'talking', 'without', 'speaking']]\n",
      "People hearing without listening\n",
      "[['Hello', 'darkness', 'my', 'old', 'friend'], ['I', 've', 'come', 'to', 'talk', 'with', 'you', 'again'], ['Because', 'a', 'vision', 'softly', 'creeping'], ['Left', 'its', 'seeds', 'while', 'I', 'was', 'sleeping'], ['And', 'the', 'vision', 'that', 'was', 'planted', 'in', 'my', 'brain'], ['Still', 'remains'], ['Within', 'the', 'sound', 'of', 'silence'], ['In', 'restless', 'dreams', 'I', 'walked', 'alone'], ['Narrow', 'streets', 'of', 'cobblestone'], ['Neath', 'the', 'halo', 'of', 'a', 'street', 'lamp'], ['I', 'turned', 'my', 'collar', 'to', 'the', 'cold', 'and', 'damp'], ['When', 'my', 'eyes', 'were', 'stabbed', 'by', 'the', 'flash', 'of', 'a', 'neon', 'light'], ['That', 'split', 'the', 'night'], ['And', 'touched', 'the', 'sound', 'of', 'silence'], ['And', 'in', 'the', 'naked', 'light', 'I', 'saw'], ['Ten', 'thousand', 'people', 'maybe', 'more'], ['People', 'talking', 'without', 'speaking'], ['People', 'hearing', 'without', 'listening']]\n",
      "People writing songs that voices never share\n",
      "[['Hello', 'darkness', 'my', 'old', 'friend'], ['I', 've', 'come', 'to', 'talk', 'with', 'you', 'again'], ['Because', 'a', 'vision', 'softly', 'creeping'], ['Left', 'its', 'seeds', 'while', 'I', 'was', 'sleeping'], ['And', 'the', 'vision', 'that', 'was', 'planted', 'in', 'my', 'brain'], ['Still', 'remains'], ['Within', 'the', 'sound', 'of', 'silence'], ['In', 'restless', 'dreams', 'I', 'walked', 'alone'], ['Narrow', 'streets', 'of', 'cobblestone'], ['Neath', 'the', 'halo', 'of', 'a', 'street', 'lamp'], ['I', 'turned', 'my', 'collar', 'to', 'the', 'cold', 'and', 'damp'], ['When', 'my', 'eyes', 'were', 'stabbed', 'by', 'the', 'flash', 'of', 'a', 'neon', 'light'], ['That', 'split', 'the', 'night'], ['And', 'touched', 'the', 'sound', 'of', 'silence'], ['And', 'in', 'the', 'naked', 'light', 'I', 'saw'], ['Ten', 'thousand', 'people', 'maybe', 'more'], ['People', 'talking', 'without', 'speaking'], ['People', 'hearing', 'without', 'listening'], ['People', 'writing', 'songs', 'that', 'voices', 'never', 'share']]\n",
      "And no one dared\n",
      "[['Hello', 'darkness', 'my', 'old', 'friend'], ['I', 've', 'come', 'to', 'talk', 'with', 'you', 'again'], ['Because', 'a', 'vision', 'softly', 'creeping'], ['Left', 'its', 'seeds', 'while', 'I', 'was', 'sleeping'], ['And', 'the', 'vision', 'that', 'was', 'planted', 'in', 'my', 'brain'], ['Still', 'remains'], ['Within', 'the', 'sound', 'of', 'silence'], ['In', 'restless', 'dreams', 'I', 'walked', 'alone'], ['Narrow', 'streets', 'of', 'cobblestone'], ['Neath', 'the', 'halo', 'of', 'a', 'street', 'lamp'], ['I', 'turned', 'my', 'collar', 'to', 'the', 'cold', 'and', 'damp'], ['When', 'my', 'eyes', 'were', 'stabbed', 'by', 'the', 'flash', 'of', 'a', 'neon', 'light'], ['That', 'split', 'the', 'night'], ['And', 'touched', 'the', 'sound', 'of', 'silence'], ['And', 'in', 'the', 'naked', 'light', 'I', 'saw'], ['Ten', 'thousand', 'people', 'maybe', 'more'], ['People', 'talking', 'without', 'speaking'], ['People', 'hearing', 'without', 'listening'], ['People', 'writing', 'songs', 'that', 'voices', 'never', 'share'], ['And', 'no', 'one', 'dared']]\n",
      "Disturb the sound of silence\n",
      "[['Hello', 'darkness', 'my', 'old', 'friend'], ['I', 've', 'come', 'to', 'talk', 'with', 'you', 'again'], ['Because', 'a', 'vision', 'softly', 'creeping'], ['Left', 'its', 'seeds', 'while', 'I', 'was', 'sleeping'], ['And', 'the', 'vision', 'that', 'was', 'planted', 'in', 'my', 'brain'], ['Still', 'remains'], ['Within', 'the', 'sound', 'of', 'silence'], ['In', 'restless', 'dreams', 'I', 'walked', 'alone'], ['Narrow', 'streets', 'of', 'cobblestone'], ['Neath', 'the', 'halo', 'of', 'a', 'street', 'lamp'], ['I', 'turned', 'my', 'collar', 'to', 'the', 'cold', 'and', 'damp'], ['When', 'my', 'eyes', 'were', 'stabbed', 'by', 'the', 'flash', 'of', 'a', 'neon', 'light'], ['That', 'split', 'the', 'night'], ['And', 'touched', 'the', 'sound', 'of', 'silence'], ['And', 'in', 'the', 'naked', 'light', 'I', 'saw'], ['Ten', 'thousand', 'people', 'maybe', 'more'], ['People', 'talking', 'without', 'speaking'], ['People', 'hearing', 'without', 'listening'], ['People', 'writing', 'songs', 'that', 'voices', 'never', 'share'], ['And', 'no', 'one', 'dared'], ['Disturb', 'the', 'sound', 'of', 'silence']]\n",
      "Fools, said I, you do not know\n",
      "[['Hello', 'darkness', 'my', 'old', 'friend'], ['I', 've', 'come', 'to', 'talk', 'with', 'you', 'again'], ['Because', 'a', 'vision', 'softly', 'creeping'], ['Left', 'its', 'seeds', 'while', 'I', 'was', 'sleeping'], ['And', 'the', 'vision', 'that', 'was', 'planted', 'in', 'my', 'brain'], ['Still', 'remains'], ['Within', 'the', 'sound', 'of', 'silence'], ['In', 'restless', 'dreams', 'I', 'walked', 'alone'], ['Narrow', 'streets', 'of', 'cobblestone'], ['Neath', 'the', 'halo', 'of', 'a', 'street', 'lamp'], ['I', 'turned', 'my', 'collar', 'to', 'the', 'cold', 'and', 'damp'], ['When', 'my', 'eyes', 'were', 'stabbed', 'by', 'the', 'flash', 'of', 'a', 'neon', 'light'], ['That', 'split', 'the', 'night'], ['And', 'touched', 'the', 'sound', 'of', 'silence'], ['And', 'in', 'the', 'naked', 'light', 'I', 'saw'], ['Ten', 'thousand', 'people', 'maybe', 'more'], ['People', 'talking', 'without', 'speaking'], ['People', 'hearing', 'without', 'listening'], ['People', 'writing', 'songs', 'that', 'voices', 'never', 'share'], ['And', 'no', 'one', 'dared'], ['Disturb', 'the', 'sound', 'of', 'silence'], ['Fools', 'said', 'I', 'you', 'do', 'not', 'know']]\n",
      "Silence like a cancer grows\n",
      "[['Hello', 'darkness', 'my', 'old', 'friend'], ['I', 've', 'come', 'to', 'talk', 'with', 'you', 'again'], ['Because', 'a', 'vision', 'softly', 'creeping'], ['Left', 'its', 'seeds', 'while', 'I', 'was', 'sleeping'], ['And', 'the', 'vision', 'that', 'was', 'planted', 'in', 'my', 'brain'], ['Still', 'remains'], ['Within', 'the', 'sound', 'of', 'silence'], ['In', 'restless', 'dreams', 'I', 'walked', 'alone'], ['Narrow', 'streets', 'of', 'cobblestone'], ['Neath', 'the', 'halo', 'of', 'a', 'street', 'lamp'], ['I', 'turned', 'my', 'collar', 'to', 'the', 'cold', 'and', 'damp'], ['When', 'my', 'eyes', 'were', 'stabbed', 'by', 'the', 'flash', 'of', 'a', 'neon', 'light'], ['That', 'split', 'the', 'night'], ['And', 'touched', 'the', 'sound', 'of', 'silence'], ['And', 'in', 'the', 'naked', 'light', 'I', 'saw'], ['Ten', 'thousand', 'people', 'maybe', 'more'], ['People', 'talking', 'without', 'speaking'], ['People', 'hearing', 'without', 'listening'], ['People', 'writing', 'songs', 'that', 'voices', 'never', 'share'], ['And', 'no', 'one', 'dared'], ['Disturb', 'the', 'sound', 'of', 'silence'], ['Fools', 'said', 'I', 'you', 'do', 'not', 'know'], ['Silence', 'like', 'a', 'cancer', 'grows']]\n",
      "Hear my words that I might teach you\n",
      "[['Hello', 'darkness', 'my', 'old', 'friend'], ['I', 've', 'come', 'to', 'talk', 'with', 'you', 'again'], ['Because', 'a', 'vision', 'softly', 'creeping'], ['Left', 'its', 'seeds', 'while', 'I', 'was', 'sleeping'], ['And', 'the', 'vision', 'that', 'was', 'planted', 'in', 'my', 'brain'], ['Still', 'remains'], ['Within', 'the', 'sound', 'of', 'silence'], ['In', 'restless', 'dreams', 'I', 'walked', 'alone'], ['Narrow', 'streets', 'of', 'cobblestone'], ['Neath', 'the', 'halo', 'of', 'a', 'street', 'lamp'], ['I', 'turned', 'my', 'collar', 'to', 'the', 'cold', 'and', 'damp'], ['When', 'my', 'eyes', 'were', 'stabbed', 'by', 'the', 'flash', 'of', 'a', 'neon', 'light'], ['That', 'split', 'the', 'night'], ['And', 'touched', 'the', 'sound', 'of', 'silence'], ['And', 'in', 'the', 'naked', 'light', 'I', 'saw'], ['Ten', 'thousand', 'people', 'maybe', 'more'], ['People', 'talking', 'without', 'speaking'], ['People', 'hearing', 'without', 'listening'], ['People', 'writing', 'songs', 'that', 'voices', 'never', 'share'], ['And', 'no', 'one', 'dared'], ['Disturb', 'the', 'sound', 'of', 'silence'], ['Fools', 'said', 'I', 'you', 'do', 'not', 'know'], ['Silence', 'like', 'a', 'cancer', 'grows'], ['Hear', 'my', 'words', 'that', 'I', 'might', 'teach', 'you']]\n",
      "Take my arms that I might reach you\n",
      "[['Hello', 'darkness', 'my', 'old', 'friend'], ['I', 've', 'come', 'to', 'talk', 'with', 'you', 'again'], ['Because', 'a', 'vision', 'softly', 'creeping'], ['Left', 'its', 'seeds', 'while', 'I', 'was', 'sleeping'], ['And', 'the', 'vision', 'that', 'was', 'planted', 'in', 'my', 'brain'], ['Still', 'remains'], ['Within', 'the', 'sound', 'of', 'silence'], ['In', 'restless', 'dreams', 'I', 'walked', 'alone'], ['Narrow', 'streets', 'of', 'cobblestone'], ['Neath', 'the', 'halo', 'of', 'a', 'street', 'lamp'], ['I', 'turned', 'my', 'collar', 'to', 'the', 'cold', 'and', 'damp'], ['When', 'my', 'eyes', 'were', 'stabbed', 'by', 'the', 'flash', 'of', 'a', 'neon', 'light'], ['That', 'split', 'the', 'night'], ['And', 'touched', 'the', 'sound', 'of', 'silence'], ['And', 'in', 'the', 'naked', 'light', 'I', 'saw'], ['Ten', 'thousand', 'people', 'maybe', 'more'], ['People', 'talking', 'without', 'speaking'], ['People', 'hearing', 'without', 'listening'], ['People', 'writing', 'songs', 'that', 'voices', 'never', 'share'], ['And', 'no', 'one', 'dared'], ['Disturb', 'the', 'sound', 'of', 'silence'], ['Fools', 'said', 'I', 'you', 'do', 'not', 'know'], ['Silence', 'like', 'a', 'cancer', 'grows'], ['Hear', 'my', 'words', 'that', 'I', 'might', 'teach', 'you'], ['Take', 'my', 'arms', 'that', 'I', 'might', 'reach', 'you']]\n",
      "But my words, like silent raindrops fell\n",
      "[['Hello', 'darkness', 'my', 'old', 'friend'], ['I', 've', 'come', 'to', 'talk', 'with', 'you', 'again'], ['Because', 'a', 'vision', 'softly', 'creeping'], ['Left', 'its', 'seeds', 'while', 'I', 'was', 'sleeping'], ['And', 'the', 'vision', 'that', 'was', 'planted', 'in', 'my', 'brain'], ['Still', 'remains'], ['Within', 'the', 'sound', 'of', 'silence'], ['In', 'restless', 'dreams', 'I', 'walked', 'alone'], ['Narrow', 'streets', 'of', 'cobblestone'], ['Neath', 'the', 'halo', 'of', 'a', 'street', 'lamp'], ['I', 'turned', 'my', 'collar', 'to', 'the', 'cold', 'and', 'damp'], ['When', 'my', 'eyes', 'were', 'stabbed', 'by', 'the', 'flash', 'of', 'a', 'neon', 'light'], ['That', 'split', 'the', 'night'], ['And', 'touched', 'the', 'sound', 'of', 'silence'], ['And', 'in', 'the', 'naked', 'light', 'I', 'saw'], ['Ten', 'thousand', 'people', 'maybe', 'more'], ['People', 'talking', 'without', 'speaking'], ['People', 'hearing', 'without', 'listening'], ['People', 'writing', 'songs', 'that', 'voices', 'never', 'share'], ['And', 'no', 'one', 'dared'], ['Disturb', 'the', 'sound', 'of', 'silence'], ['Fools', 'said', 'I', 'you', 'do', 'not', 'know'], ['Silence', 'like', 'a', 'cancer', 'grows'], ['Hear', 'my', 'words', 'that', 'I', 'might', 'teach', 'you'], ['Take', 'my', 'arms', 'that', 'I', 'might', 'reach', 'you'], ['But', 'my', 'words', 'like', 'silent', 'raindrops', 'fell']]\n",
      "And echoed in the wells of silence\n",
      "[['Hello', 'darkness', 'my', 'old', 'friend'], ['I', 've', 'come', 'to', 'talk', 'with', 'you', 'again'], ['Because', 'a', 'vision', 'softly', 'creeping'], ['Left', 'its', 'seeds', 'while', 'I', 'was', 'sleeping'], ['And', 'the', 'vision', 'that', 'was', 'planted', 'in', 'my', 'brain'], ['Still', 'remains'], ['Within', 'the', 'sound', 'of', 'silence'], ['In', 'restless', 'dreams', 'I', 'walked', 'alone'], ['Narrow', 'streets', 'of', 'cobblestone'], ['Neath', 'the', 'halo', 'of', 'a', 'street', 'lamp'], ['I', 'turned', 'my', 'collar', 'to', 'the', 'cold', 'and', 'damp'], ['When', 'my', 'eyes', 'were', 'stabbed', 'by', 'the', 'flash', 'of', 'a', 'neon', 'light'], ['That', 'split', 'the', 'night'], ['And', 'touched', 'the', 'sound', 'of', 'silence'], ['And', 'in', 'the', 'naked', 'light', 'I', 'saw'], ['Ten', 'thousand', 'people', 'maybe', 'more'], ['People', 'talking', 'without', 'speaking'], ['People', 'hearing', 'without', 'listening'], ['People', 'writing', 'songs', 'that', 'voices', 'never', 'share'], ['And', 'no', 'one', 'dared'], ['Disturb', 'the', 'sound', 'of', 'silence'], ['Fools', 'said', 'I', 'you', 'do', 'not', 'know'], ['Silence', 'like', 'a', 'cancer', 'grows'], ['Hear', 'my', 'words', 'that', 'I', 'might', 'teach', 'you'], ['Take', 'my', 'arms', 'that', 'I', 'might', 'reach', 'you'], ['But', 'my', 'words', 'like', 'silent', 'raindrops', 'fell'], ['And', 'echoed', 'in', 'the', 'wells', 'of', 'silence']]\n",
      "And the people bowed and prayed\n",
      "[['Hello', 'darkness', 'my', 'old', 'friend'], ['I', 've', 'come', 'to', 'talk', 'with', 'you', 'again'], ['Because', 'a', 'vision', 'softly', 'creeping'], ['Left', 'its', 'seeds', 'while', 'I', 'was', 'sleeping'], ['And', 'the', 'vision', 'that', 'was', 'planted', 'in', 'my', 'brain'], ['Still', 'remains'], ['Within', 'the', 'sound', 'of', 'silence'], ['In', 'restless', 'dreams', 'I', 'walked', 'alone'], ['Narrow', 'streets', 'of', 'cobblestone'], ['Neath', 'the', 'halo', 'of', 'a', 'street', 'lamp'], ['I', 'turned', 'my', 'collar', 'to', 'the', 'cold', 'and', 'damp'], ['When', 'my', 'eyes', 'were', 'stabbed', 'by', 'the', 'flash', 'of', 'a', 'neon', 'light'], ['That', 'split', 'the', 'night'], ['And', 'touched', 'the', 'sound', 'of', 'silence'], ['And', 'in', 'the', 'naked', 'light', 'I', 'saw'], ['Ten', 'thousand', 'people', 'maybe', 'more'], ['People', 'talking', 'without', 'speaking'], ['People', 'hearing', 'without', 'listening'], ['People', 'writing', 'songs', 'that', 'voices', 'never', 'share'], ['And', 'no', 'one', 'dared'], ['Disturb', 'the', 'sound', 'of', 'silence'], ['Fools', 'said', 'I', 'you', 'do', 'not', 'know'], ['Silence', 'like', 'a', 'cancer', 'grows'], ['Hear', 'my', 'words', 'that', 'I', 'might', 'teach', 'you'], ['Take', 'my', 'arms', 'that', 'I', 'might', 'reach', 'you'], ['But', 'my', 'words', 'like', 'silent', 'raindrops', 'fell'], ['And', 'echoed', 'in', 'the', 'wells', 'of', 'silence'], ['And', 'the', 'people', 'bowed', 'and', 'prayed']]\n",
      "To the neon god they made\n",
      "[['Hello', 'darkness', 'my', 'old', 'friend'], ['I', 've', 'come', 'to', 'talk', 'with', 'you', 'again'], ['Because', 'a', 'vision', 'softly', 'creeping'], ['Left', 'its', 'seeds', 'while', 'I', 'was', 'sleeping'], ['And', 'the', 'vision', 'that', 'was', 'planted', 'in', 'my', 'brain'], ['Still', 'remains'], ['Within', 'the', 'sound', 'of', 'silence'], ['In', 'restless', 'dreams', 'I', 'walked', 'alone'], ['Narrow', 'streets', 'of', 'cobblestone'], ['Neath', 'the', 'halo', 'of', 'a', 'street', 'lamp'], ['I', 'turned', 'my', 'collar', 'to', 'the', 'cold', 'and', 'damp'], ['When', 'my', 'eyes', 'were', 'stabbed', 'by', 'the', 'flash', 'of', 'a', 'neon', 'light'], ['That', 'split', 'the', 'night'], ['And', 'touched', 'the', 'sound', 'of', 'silence'], ['And', 'in', 'the', 'naked', 'light', 'I', 'saw'], ['Ten', 'thousand', 'people', 'maybe', 'more'], ['People', 'talking', 'without', 'speaking'], ['People', 'hearing', 'without', 'listening'], ['People', 'writing', 'songs', 'that', 'voices', 'never', 'share'], ['And', 'no', 'one', 'dared'], ['Disturb', 'the', 'sound', 'of', 'silence'], ['Fools', 'said', 'I', 'you', 'do', 'not', 'know'], ['Silence', 'like', 'a', 'cancer', 'grows'], ['Hear', 'my', 'words', 'that', 'I', 'might', 'teach', 'you'], ['Take', 'my', 'arms', 'that', 'I', 'might', 'reach', 'you'], ['But', 'my', 'words', 'like', 'silent', 'raindrops', 'fell'], ['And', 'echoed', 'in', 'the', 'wells', 'of', 'silence'], ['And', 'the', 'people', 'bowed', 'and', 'prayed'], ['To', 'the', 'neon', 'god', 'they', 'made']]\n",
      "And the sign flashed out its warning\n",
      "[['Hello', 'darkness', 'my', 'old', 'friend'], ['I', 've', 'come', 'to', 'talk', 'with', 'you', 'again'], ['Because', 'a', 'vision', 'softly', 'creeping'], ['Left', 'its', 'seeds', 'while', 'I', 'was', 'sleeping'], ['And', 'the', 'vision', 'that', 'was', 'planted', 'in', 'my', 'brain'], ['Still', 'remains'], ['Within', 'the', 'sound', 'of', 'silence'], ['In', 'restless', 'dreams', 'I', 'walked', 'alone'], ['Narrow', 'streets', 'of', 'cobblestone'], ['Neath', 'the', 'halo', 'of', 'a', 'street', 'lamp'], ['I', 'turned', 'my', 'collar', 'to', 'the', 'cold', 'and', 'damp'], ['When', 'my', 'eyes', 'were', 'stabbed', 'by', 'the', 'flash', 'of', 'a', 'neon', 'light'], ['That', 'split', 'the', 'night'], ['And', 'touched', 'the', 'sound', 'of', 'silence'], ['And', 'in', 'the', 'naked', 'light', 'I', 'saw'], ['Ten', 'thousand', 'people', 'maybe', 'more'], ['People', 'talking', 'without', 'speaking'], ['People', 'hearing', 'without', 'listening'], ['People', 'writing', 'songs', 'that', 'voices', 'never', 'share'], ['And', 'no', 'one', 'dared'], ['Disturb', 'the', 'sound', 'of', 'silence'], ['Fools', 'said', 'I', 'you', 'do', 'not', 'know'], ['Silence', 'like', 'a', 'cancer', 'grows'], ['Hear', 'my', 'words', 'that', 'I', 'might', 'teach', 'you'], ['Take', 'my', 'arms', 'that', 'I', 'might', 'reach', 'you'], ['But', 'my', 'words', 'like', 'silent', 'raindrops', 'fell'], ['And', 'echoed', 'in', 'the', 'wells', 'of', 'silence'], ['And', 'the', 'people', 'bowed', 'and', 'prayed'], ['To', 'the', 'neon', 'god', 'they', 'made'], ['And', 'the', 'sign', 'flashed', 'out', 'its', 'warning']]\n",
      "In the words that it was forming\n",
      "[['Hello', 'darkness', 'my', 'old', 'friend'], ['I', 've', 'come', 'to', 'talk', 'with', 'you', 'again'], ['Because', 'a', 'vision', 'softly', 'creeping'], ['Left', 'its', 'seeds', 'while', 'I', 'was', 'sleeping'], ['And', 'the', 'vision', 'that', 'was', 'planted', 'in', 'my', 'brain'], ['Still', 'remains'], ['Within', 'the', 'sound', 'of', 'silence'], ['In', 'restless', 'dreams', 'I', 'walked', 'alone'], ['Narrow', 'streets', 'of', 'cobblestone'], ['Neath', 'the', 'halo', 'of', 'a', 'street', 'lamp'], ['I', 'turned', 'my', 'collar', 'to', 'the', 'cold', 'and', 'damp'], ['When', 'my', 'eyes', 'were', 'stabbed', 'by', 'the', 'flash', 'of', 'a', 'neon', 'light'], ['That', 'split', 'the', 'night'], ['And', 'touched', 'the', 'sound', 'of', 'silence'], ['And', 'in', 'the', 'naked', 'light', 'I', 'saw'], ['Ten', 'thousand', 'people', 'maybe', 'more'], ['People', 'talking', 'without', 'speaking'], ['People', 'hearing', 'without', 'listening'], ['People', 'writing', 'songs', 'that', 'voices', 'never', 'share'], ['And', 'no', 'one', 'dared'], ['Disturb', 'the', 'sound', 'of', 'silence'], ['Fools', 'said', 'I', 'you', 'do', 'not', 'know'], ['Silence', 'like', 'a', 'cancer', 'grows'], ['Hear', 'my', 'words', 'that', 'I', 'might', 'teach', 'you'], ['Take', 'my', 'arms', 'that', 'I', 'might', 'reach', 'you'], ['But', 'my', 'words', 'like', 'silent', 'raindrops', 'fell'], ['And', 'echoed', 'in', 'the', 'wells', 'of', 'silence'], ['And', 'the', 'people', 'bowed', 'and', 'prayed'], ['To', 'the', 'neon', 'god', 'they', 'made'], ['And', 'the', 'sign', 'flashed', 'out', 'its', 'warning'], ['In', 'the', 'words', 'that', 'it', 'was', 'forming']]\n",
      "And the sign said, the words of the prophets are written on the subway walls\n",
      "[['Hello', 'darkness', 'my', 'old', 'friend'], ['I', 've', 'come', 'to', 'talk', 'with', 'you', 'again'], ['Because', 'a', 'vision', 'softly', 'creeping'], ['Left', 'its', 'seeds', 'while', 'I', 'was', 'sleeping'], ['And', 'the', 'vision', 'that', 'was', 'planted', 'in', 'my', 'brain'], ['Still', 'remains'], ['Within', 'the', 'sound', 'of', 'silence'], ['In', 'restless', 'dreams', 'I', 'walked', 'alone'], ['Narrow', 'streets', 'of', 'cobblestone'], ['Neath', 'the', 'halo', 'of', 'a', 'street', 'lamp'], ['I', 'turned', 'my', 'collar', 'to', 'the', 'cold', 'and', 'damp'], ['When', 'my', 'eyes', 'were', 'stabbed', 'by', 'the', 'flash', 'of', 'a', 'neon', 'light'], ['That', 'split', 'the', 'night'], ['And', 'touched', 'the', 'sound', 'of', 'silence'], ['And', 'in', 'the', 'naked', 'light', 'I', 'saw'], ['Ten', 'thousand', 'people', 'maybe', 'more'], ['People', 'talking', 'without', 'speaking'], ['People', 'hearing', 'without', 'listening'], ['People', 'writing', 'songs', 'that', 'voices', 'never', 'share'], ['And', 'no', 'one', 'dared'], ['Disturb', 'the', 'sound', 'of', 'silence'], ['Fools', 'said', 'I', 'you', 'do', 'not', 'know'], ['Silence', 'like', 'a', 'cancer', 'grows'], ['Hear', 'my', 'words', 'that', 'I', 'might', 'teach', 'you'], ['Take', 'my', 'arms', 'that', 'I', 'might', 'reach', 'you'], ['But', 'my', 'words', 'like', 'silent', 'raindrops', 'fell'], ['And', 'echoed', 'in', 'the', 'wells', 'of', 'silence'], ['And', 'the', 'people', 'bowed', 'and', 'prayed'], ['To', 'the', 'neon', 'god', 'they', 'made'], ['And', 'the', 'sign', 'flashed', 'out', 'its', 'warning'], ['In', 'the', 'words', 'that', 'it', 'was', 'forming'], ['And', 'the', 'sign', 'said', 'the', 'words', 'of', 'the', 'prophets', 'are', 'written', 'on', 'the', 'subway', 'walls']]\n",
      "And tenement halls\n",
      "[['Hello', 'darkness', 'my', 'old', 'friend'], ['I', 've', 'come', 'to', 'talk', 'with', 'you', 'again'], ['Because', 'a', 'vision', 'softly', 'creeping'], ['Left', 'its', 'seeds', 'while', 'I', 'was', 'sleeping'], ['And', 'the', 'vision', 'that', 'was', 'planted', 'in', 'my', 'brain'], ['Still', 'remains'], ['Within', 'the', 'sound', 'of', 'silence'], ['In', 'restless', 'dreams', 'I', 'walked', 'alone'], ['Narrow', 'streets', 'of', 'cobblestone'], ['Neath', 'the', 'halo', 'of', 'a', 'street', 'lamp'], ['I', 'turned', 'my', 'collar', 'to', 'the', 'cold', 'and', 'damp'], ['When', 'my', 'eyes', 'were', 'stabbed', 'by', 'the', 'flash', 'of', 'a', 'neon', 'light'], ['That', 'split', 'the', 'night'], ['And', 'touched', 'the', 'sound', 'of', 'silence'], ['And', 'in', 'the', 'naked', 'light', 'I', 'saw'], ['Ten', 'thousand', 'people', 'maybe', 'more'], ['People', 'talking', 'without', 'speaking'], ['People', 'hearing', 'without', 'listening'], ['People', 'writing', 'songs', 'that', 'voices', 'never', 'share'], ['And', 'no', 'one', 'dared'], ['Disturb', 'the', 'sound', 'of', 'silence'], ['Fools', 'said', 'I', 'you', 'do', 'not', 'know'], ['Silence', 'like', 'a', 'cancer', 'grows'], ['Hear', 'my', 'words', 'that', 'I', 'might', 'teach', 'you'], ['Take', 'my', 'arms', 'that', 'I', 'might', 'reach', 'you'], ['But', 'my', 'words', 'like', 'silent', 'raindrops', 'fell'], ['And', 'echoed', 'in', 'the', 'wells', 'of', 'silence'], ['And', 'the', 'people', 'bowed', 'and', 'prayed'], ['To', 'the', 'neon', 'god', 'they', 'made'], ['And', 'the', 'sign', 'flashed', 'out', 'its', 'warning'], ['In', 'the', 'words', 'that', 'it', 'was', 'forming'], ['And', 'the', 'sign', 'said', 'the', 'words', 'of', 'the', 'prophets', 'are', 'written', 'on', 'the', 'subway', 'walls'], ['And', 'tenement', 'halls']]\n",
      "And whispered in the sounds of silence\n",
      "[['Hello', 'darkness', 'my', 'old', 'friend'], ['I', 've', 'come', 'to', 'talk', 'with', 'you', 'again'], ['Because', 'a', 'vision', 'softly', 'creeping'], ['Left', 'its', 'seeds', 'while', 'I', 'was', 'sleeping'], ['And', 'the', 'vision', 'that', 'was', 'planted', 'in', 'my', 'brain'], ['Still', 'remains'], ['Within', 'the', 'sound', 'of', 'silence'], ['In', 'restless', 'dreams', 'I', 'walked', 'alone'], ['Narrow', 'streets', 'of', 'cobblestone'], ['Neath', 'the', 'halo', 'of', 'a', 'street', 'lamp'], ['I', 'turned', 'my', 'collar', 'to', 'the', 'cold', 'and', 'damp'], ['When', 'my', 'eyes', 'were', 'stabbed', 'by', 'the', 'flash', 'of', 'a', 'neon', 'light'], ['That', 'split', 'the', 'night'], ['And', 'touched', 'the', 'sound', 'of', 'silence'], ['And', 'in', 'the', 'naked', 'light', 'I', 'saw'], ['Ten', 'thousand', 'people', 'maybe', 'more'], ['People', 'talking', 'without', 'speaking'], ['People', 'hearing', 'without', 'listening'], ['People', 'writing', 'songs', 'that', 'voices', 'never', 'share'], ['And', 'no', 'one', 'dared'], ['Disturb', 'the', 'sound', 'of', 'silence'], ['Fools', 'said', 'I', 'you', 'do', 'not', 'know'], ['Silence', 'like', 'a', 'cancer', 'grows'], ['Hear', 'my', 'words', 'that', 'I', 'might', 'teach', 'you'], ['Take', 'my', 'arms', 'that', 'I', 'might', 'reach', 'you'], ['But', 'my', 'words', 'like', 'silent', 'raindrops', 'fell'], ['And', 'echoed', 'in', 'the', 'wells', 'of', 'silence'], ['And', 'the', 'people', 'bowed', 'and', 'prayed'], ['To', 'the', 'neon', 'god', 'they', 'made'], ['And', 'the', 'sign', 'flashed', 'out', 'its', 'warning'], ['In', 'the', 'words', 'that', 'it', 'was', 'forming'], ['And', 'the', 'sign', 'said', 'the', 'words', 'of', 'the', 'prophets', 'are', 'written', 'on', 'the', 'subway', 'walls'], ['And', 'tenement', 'halls'], ['And', 'whispered', 'in', 'the', 'sounds', 'of', 'silence']]\n"
     ]
    }
   ],
   "source": [
    "#sentence where each word is tokenized\n",
    "sentences = []\n",
    "for raw_sentence in raw_sentences:\n",
    "    print(raw_sentence)\n",
    "    if len(raw_sentence) > 0:\n",
    "        sentences.append(sentence_to_wordlist(raw_sentence))\n",
    "        print(sentences)"
   ]
  },
  {
   "cell_type": "code",
   "execution_count": 59,
   "metadata": {},
   "outputs": [],
   "source": [
    "# print(raw_sentence)\n",
    "# print(sentence_to_wordlist(raw_sentences))"
   ]
  },
  {
   "cell_type": "code",
   "execution_count": 61,
   "metadata": {},
   "outputs": [
    {
     "name": "stdout",
     "output_type": "stream",
     "text": [
      "The song corpus contains 218 tokens\n"
     ]
    }
   ],
   "source": [
    "token_count = sum([len(sentence) for sentence in sentences])\n",
    "print(\"The song corpus contains {0:,} tokens\".format(token_count))"
   ]
  },
  {
   "cell_type": "markdown",
   "metadata": {},
   "source": [
    "## Train Word2Vec"
   ]
  },
  {
   "cell_type": "code",
   "execution_count": 102,
   "metadata": {},
   "outputs": [],
   "source": [
    "#ONCE we have vectors\n",
    "#step 3 - build model\n",
    "#3 main tasks that vectors help with\n",
    "#DISTANCE, SIMILARITY, RANKING\n",
    "\n",
    "# Dimensionality of the resulting word vectors.\n",
    "#more dimensions, more computationally expensive to train\n",
    "#but also more accurate\n",
    "#more dimensions = more generalized\n",
    "num_features = 300\n",
    "# Minimum word count threshold.\n",
    "min_word_count = 1\n",
    "\n",
    "# Number of threads to run in parallel.\n",
    "#more workers, faster we train\n",
    "num_workers = multiprocessing.cpu_count()\n",
    "\n",
    "# Context window length.\n",
    "context_size = 7\n",
    "\n",
    "# Downsample setting for frequent words.\n",
    "#0 - 1e-5 is good for this\n",
    "downsampling = 1e-3\n",
    "\n",
    "# Seed for the RNG, to make the results reproducible.\n",
    "#random number generator\n",
    "#deterministic, good for debugging\n",
    "seed = 1"
   ]
  },
  {
   "cell_type": "code",
   "execution_count": 176,
   "metadata": {},
   "outputs": [],
   "source": [
    "song2vec = w2v.Word2Vec(\n",
    "    sg=1,\n",
    "    seed=seed,\n",
    "    workers=num_workers,\n",
    "    size=num_features,\n",
    "    min_count=min_word_count,\n",
    "    window=context_size,\n",
    "    sample=downsampling\n",
    ")"
   ]
  },
  {
   "cell_type": "code",
   "execution_count": 177,
   "metadata": {},
   "outputs": [
    {
     "name": "stderr",
     "output_type": "stream",
     "text": [
      "2018-08-03 13:38:41,897 : INFO : collecting all words and their counts\n",
      "2018-08-03 13:38:41,899 : INFO : PROGRESS: at sentence #0, processed 0 words, keeping 0 word types\n",
      "2018-08-03 13:38:41,901 : INFO : collected 131 word types from a corpus of 218 raw words and 34 sentences\n",
      "2018-08-03 13:38:41,902 : INFO : Loading a fresh vocabulary\n",
      "2018-08-03 13:38:41,905 : INFO : min_count=1 retains 131 unique words (100% of original 131, drops 0)\n",
      "2018-08-03 13:38:41,906 : INFO : min_count=1 leaves 218 word corpus (100% of original 218, drops 0)\n",
      "2018-08-03 13:38:41,908 : INFO : deleting the raw counts dictionary of 131 items\n",
      "2018-08-03 13:38:41,910 : INFO : sample=0.001 downsamples 131 most-common words\n",
      "2018-08-03 13:38:41,912 : INFO : downsampling leaves estimated 101 word corpus (46.5% of prior 218)\n",
      "2018-08-03 13:38:41,914 : INFO : estimated required memory for 131 words and 300 dimensions: 379900 bytes\n",
      "2018-08-03 13:38:41,915 : INFO : resetting layer weights\n"
     ]
    }
   ],
   "source": [
    "song2vec.build_vocab(sentences)"
   ]
  },
  {
   "cell_type": "code",
   "execution_count": 179,
   "metadata": {
    "scrolled": true
   },
   "outputs": [
    {
     "name": "stdout",
     "output_type": "stream",
     "text": [
      "Word2Vec vocabulary length: 131\n"
     ]
    }
   ],
   "source": [
    "print(\"Word2Vec vocabulary length:\", len(song2vec.wv.vocab))"
   ]
  },
  {
   "cell_type": "markdown",
   "metadata": {},
   "source": [
    "**Start training, this might take a minute or two...**"
   ]
  },
  {
   "cell_type": "code",
   "execution_count": 180,
   "metadata": {},
   "outputs": [
    {
     "name": "stderr",
     "output_type": "stream",
     "text": [
      "2018-08-03 13:38:49,534 : INFO : training model with 4 workers on 131 vocabulary and 300 features, using sg=1 hs=0 sample=0.001 negative=5 window=7\n",
      "2018-08-03 13:38:49,540 : INFO : worker thread finished; awaiting finish of 3 more threads\n",
      "2018-08-03 13:38:49,541 : INFO : worker thread finished; awaiting finish of 2 more threads\n",
      "2018-08-03 13:38:49,543 : INFO : worker thread finished; awaiting finish of 1 more threads\n",
      "2018-08-03 13:38:49,544 : INFO : worker thread finished; awaiting finish of 0 more threads\n",
      "2018-08-03 13:38:49,545 : INFO : EPOCH - 1 : training on 218 raw words (107 effective words) took 0.0s, 21364 effective words/s\n",
      "2018-08-03 13:38:49,549 : INFO : worker thread finished; awaiting finish of 3 more threads\n",
      "2018-08-03 13:38:49,552 : INFO : worker thread finished; awaiting finish of 2 more threads\n",
      "2018-08-03 13:38:49,553 : INFO : worker thread finished; awaiting finish of 1 more threads\n",
      "2018-08-03 13:38:49,553 : INFO : worker thread finished; awaiting finish of 0 more threads\n",
      "2018-08-03 13:38:49,554 : INFO : EPOCH - 2 : training on 218 raw words (107 effective words) took 0.0s, 20751 effective words/s\n",
      "2018-08-03 13:38:49,558 : INFO : worker thread finished; awaiting finish of 3 more threads\n",
      "2018-08-03 13:38:49,559 : INFO : worker thread finished; awaiting finish of 2 more threads\n",
      "2018-08-03 13:38:49,560 : INFO : worker thread finished; awaiting finish of 1 more threads\n",
      "2018-08-03 13:38:49,561 : INFO : worker thread finished; awaiting finish of 0 more threads\n",
      "2018-08-03 13:38:49,563 : INFO : EPOCH - 3 : training on 218 raw words (101 effective words) took 0.0s, 21299 effective words/s\n",
      "2018-08-03 13:38:49,567 : INFO : worker thread finished; awaiting finish of 3 more threads\n",
      "2018-08-03 13:38:49,568 : INFO : worker thread finished; awaiting finish of 2 more threads\n",
      "2018-08-03 13:38:49,578 : INFO : worker thread finished; awaiting finish of 1 more threads\n",
      "2018-08-03 13:38:49,580 : INFO : worker thread finished; awaiting finish of 0 more threads\n",
      "2018-08-03 13:38:49,581 : INFO : EPOCH - 4 : training on 218 raw words (96 effective words) took 0.0s, 6434 effective words/s\n",
      "2018-08-03 13:38:49,588 : INFO : worker thread finished; awaiting finish of 3 more threads\n",
      "2018-08-03 13:38:49,589 : INFO : worker thread finished; awaiting finish of 2 more threads\n",
      "2018-08-03 13:38:49,592 : INFO : worker thread finished; awaiting finish of 1 more threads\n",
      "2018-08-03 13:38:49,596 : INFO : worker thread finished; awaiting finish of 0 more threads\n",
      "2018-08-03 13:38:49,597 : INFO : EPOCH - 5 : training on 218 raw words (99 effective words) took 0.0s, 11177 effective words/s\n",
      "2018-08-03 13:38:49,602 : INFO : worker thread finished; awaiting finish of 3 more threads\n",
      "2018-08-03 13:38:49,603 : INFO : worker thread finished; awaiting finish of 2 more threads\n",
      "2018-08-03 13:38:49,604 : INFO : worker thread finished; awaiting finish of 1 more threads\n",
      "2018-08-03 13:38:49,605 : INFO : worker thread finished; awaiting finish of 0 more threads\n",
      "2018-08-03 13:38:49,607 : INFO : EPOCH - 6 : training on 218 raw words (95 effective words) took 0.0s, 13647 effective words/s\n",
      "2018-08-03 13:38:49,612 : INFO : worker thread finished; awaiting finish of 3 more threads\n",
      "2018-08-03 13:38:49,614 : INFO : worker thread finished; awaiting finish of 2 more threads\n",
      "2018-08-03 13:38:49,615 : INFO : worker thread finished; awaiting finish of 1 more threads\n",
      "2018-08-03 13:38:49,616 : INFO : worker thread finished; awaiting finish of 0 more threads\n",
      "2018-08-03 13:38:49,617 : INFO : EPOCH - 7 : training on 218 raw words (105 effective words) took 0.0s, 25233 effective words/s\n",
      "2018-08-03 13:38:49,621 : INFO : worker thread finished; awaiting finish of 3 more threads\n",
      "2018-08-03 13:38:49,623 : INFO : worker thread finished; awaiting finish of 2 more threads\n",
      "2018-08-03 13:38:49,624 : INFO : worker thread finished; awaiting finish of 1 more threads\n",
      "2018-08-03 13:38:49,626 : INFO : worker thread finished; awaiting finish of 0 more threads\n",
      "2018-08-03 13:38:49,627 : INFO : EPOCH - 8 : training on 218 raw words (94 effective words) took 0.0s, 15941 effective words/s\n",
      "2018-08-03 13:38:49,631 : INFO : worker thread finished; awaiting finish of 3 more threads\n",
      "2018-08-03 13:38:49,634 : INFO : worker thread finished; awaiting finish of 2 more threads\n",
      "2018-08-03 13:38:49,636 : INFO : worker thread finished; awaiting finish of 1 more threads\n",
      "2018-08-03 13:38:49,642 : INFO : worker thread finished; awaiting finish of 0 more threads\n",
      "2018-08-03 13:38:49,650 : INFO : EPOCH - 9 : training on 218 raw words (96 effective words) took 0.0s, 5116 effective words/s\n",
      "2018-08-03 13:38:49,657 : INFO : worker thread finished; awaiting finish of 3 more threads\n",
      "2018-08-03 13:38:49,658 : INFO : worker thread finished; awaiting finish of 2 more threads\n",
      "2018-08-03 13:38:49,659 : INFO : worker thread finished; awaiting finish of 1 more threads\n",
      "2018-08-03 13:38:49,660 : INFO : worker thread finished; awaiting finish of 0 more threads\n",
      "2018-08-03 13:38:49,662 : INFO : EPOCH - 10 : training on 218 raw words (105 effective words) took 0.0s, 21118 effective words/s\n",
      "2018-08-03 13:38:49,664 : INFO : training on a 2180 raw words (1005 effective words) took 0.1s, 7873 effective words/s\n",
      "2018-08-03 13:38:49,665 : WARNING : under 10 jobs per worker: consider setting a smaller `batch_words' for smoother alpha decay\n"
     ]
    },
    {
     "data": {
      "text/plain": [
       "(1005, 2180)"
      ]
     },
     "execution_count": 180,
     "metadata": {},
     "output_type": "execute_result"
    }
   ],
   "source": [
    "song2vec.train(sentences, total_examples=song2vec.corpus_count, epochs=10)"
   ]
  },
  {
   "cell_type": "markdown",
   "metadata": {},
   "source": [
    "**Save to file, can be useful later**"
   ]
  },
  {
   "cell_type": "code",
   "execution_count": 181,
   "metadata": {},
   "outputs": [],
   "source": [
    "if not os.path.exists(\"trained\"):\n",
    "    os.makedirs(\"trained\")"
   ]
  },
  {
   "cell_type": "code",
   "execution_count": 182,
   "metadata": {},
   "outputs": [
    {
     "name": "stderr",
     "output_type": "stream",
     "text": [
      "2018-08-03 13:38:52,590 : INFO : saving Word2Vec object under trained/song2vec.w2v, separately None\n",
      "2018-08-03 13:38:52,591 : INFO : not storing attribute vectors_norm\n",
      "2018-08-03 13:38:52,593 : INFO : not storing attribute cum_table\n",
      "2018-08-03 13:38:52,600 : INFO : saved trained/song2vec.w2v\n"
     ]
    }
   ],
   "source": [
    "song2vec.save(os.path.join(\"trained\", \"song2vec.w2v\"))"
   ]
  },
  {
   "cell_type": "markdown",
   "metadata": {},
   "source": [
    "## Explore the trained model."
   ]
  },
  {
   "cell_type": "code",
   "execution_count": 183,
   "metadata": {},
   "outputs": [
    {
     "name": "stderr",
     "output_type": "stream",
     "text": [
      "2018-08-03 13:38:54,821 : INFO : loading Word2Vec object from trained/song2vec.w2v\n",
      "2018-08-03 13:38:54,826 : INFO : loading wv recursively from trained/song2vec.w2v.wv.* with mmap=None\n",
      "2018-08-03 13:38:54,828 : INFO : setting ignored attribute vectors_norm to None\n",
      "2018-08-03 13:38:54,830 : INFO : loading vocabulary recursively from trained/song2vec.w2v.vocabulary.* with mmap=None\n",
      "2018-08-03 13:38:54,833 : INFO : loading trainables recursively from trained/song2vec.w2v.trainables.* with mmap=None\n",
      "2018-08-03 13:38:54,835 : INFO : setting ignored attribute cum_table to None\n",
      "2018-08-03 13:38:54,837 : INFO : loaded trained/song2vec.w2v\n"
     ]
    }
   ],
   "source": [
    "song2vec = w2v.Word2Vec.load(os.path.join(\"trained\", \"song2vec.w2v\"))"
   ]
  },
  {
   "cell_type": "markdown",
   "metadata": {},
   "source": [
    "### Compress the word vectors into 2D space and plot them"
   ]
  },
  {
   "cell_type": "code",
   "execution_count": 184,
   "metadata": {},
   "outputs": [],
   "source": [
    "#my video - how to visualize a dataset easily\n",
    "tsne = sklearn.manifold.TSNE(n_components=2, random_state=0)"
   ]
  },
  {
   "cell_type": "code",
   "execution_count": 185,
   "metadata": {},
   "outputs": [],
   "source": [
    "all_word_vectors_matrix = song2vec.wv.vectors"
   ]
  },
  {
   "cell_type": "markdown",
   "metadata": {},
   "source": [
    "**Train t-SNE, this could take a minute or two...**"
   ]
  },
  {
   "cell_type": "code",
   "execution_count": 186,
   "metadata": {},
   "outputs": [
    {
     "name": "stderr",
     "output_type": "stream",
     "text": [
      "/Users/gabrielmanuelsidik/anaconda3/lib/python3.6/site-packages/sklearn/neighbors/base.py:371: RuntimeWarning: invalid value encountered in sqrt\n",
      "  result = np.sqrt(dist[sample_range, neigh_ind]), neigh_ind\n"
     ]
    }
   ],
   "source": [
    "all_word_vectors_matrix_2d = tsne.fit_transform(all_word_vectors_matrix)"
   ]
  },
  {
   "cell_type": "markdown",
   "metadata": {},
   "source": [
    "**Plot the big picture**"
   ]
  },
  {
   "cell_type": "code",
   "execution_count": 187,
   "metadata": {},
   "outputs": [],
   "source": [
    "points = pd.DataFrame(\n",
    "    [\n",
    "        (word, coords[0], coords[1])\n",
    "        for word, coords in [\n",
    "            (word, all_word_vectors_matrix_2d[song2vec.wv.vocab[word].index])\n",
    "            for word in song2vec.wv.vocab\n",
    "        ]\n",
    "    ],\n",
    "    columns=[\"word\", \"x\", \"y\"]\n",
    ")"
   ]
  },
  {
   "cell_type": "code",
   "execution_count": 188,
   "metadata": {},
   "outputs": [
    {
     "data": {
      "text/html": [
       "<div>\n",
       "<style scoped>\n",
       "    .dataframe tbody tr th:only-of-type {\n",
       "        vertical-align: middle;\n",
       "    }\n",
       "\n",
       "    .dataframe tbody tr th {\n",
       "        vertical-align: top;\n",
       "    }\n",
       "\n",
       "    .dataframe thead th {\n",
       "        text-align: right;\n",
       "    }\n",
       "</style>\n",
       "<table border=\"1\" class=\"dataframe\">\n",
       "  <thead>\n",
       "    <tr style=\"text-align: right;\">\n",
       "      <th></th>\n",
       "      <th>word</th>\n",
       "      <th>x</th>\n",
       "      <th>y</th>\n",
       "    </tr>\n",
       "  </thead>\n",
       "  <tbody>\n",
       "    <tr>\n",
       "      <th>0</th>\n",
       "      <td>Hello</td>\n",
       "      <td>2.655725</td>\n",
       "      <td>5.578871</td>\n",
       "    </tr>\n",
       "    <tr>\n",
       "      <th>1</th>\n",
       "      <td>darkness</td>\n",
       "      <td>2.393483</td>\n",
       "      <td>4.681968</td>\n",
       "    </tr>\n",
       "    <tr>\n",
       "      <th>2</th>\n",
       "      <td>my</td>\n",
       "      <td>0.103511</td>\n",
       "      <td>0.181687</td>\n",
       "    </tr>\n",
       "    <tr>\n",
       "      <th>3</th>\n",
       "      <td>old</td>\n",
       "      <td>1.281798</td>\n",
       "      <td>4.238251</td>\n",
       "    </tr>\n",
       "    <tr>\n",
       "      <th>4</th>\n",
       "      <td>friend</td>\n",
       "      <td>1.151035</td>\n",
       "      <td>3.681973</td>\n",
       "    </tr>\n",
       "    <tr>\n",
       "      <th>5</th>\n",
       "      <td>I</td>\n",
       "      <td>0.477761</td>\n",
       "      <td>4.628732</td>\n",
       "    </tr>\n",
       "    <tr>\n",
       "      <th>6</th>\n",
       "      <td>ve</td>\n",
       "      <td>-2.486738</td>\n",
       "      <td>-1.497356</td>\n",
       "    </tr>\n",
       "    <tr>\n",
       "      <th>7</th>\n",
       "      <td>come</td>\n",
       "      <td>0.205305</td>\n",
       "      <td>-1.383663</td>\n",
       "    </tr>\n",
       "    <tr>\n",
       "      <th>8</th>\n",
       "      <td>to</td>\n",
       "      <td>-3.815886</td>\n",
       "      <td>2.545706</td>\n",
       "    </tr>\n",
       "    <tr>\n",
       "      <th>9</th>\n",
       "      <td>talk</td>\n",
       "      <td>1.586780</td>\n",
       "      <td>1.665821</td>\n",
       "    </tr>\n",
       "  </tbody>\n",
       "</table>\n",
       "</div>"
      ],
      "text/plain": [
       "       word         x         y\n",
       "0     Hello  2.655725  5.578871\n",
       "1  darkness  2.393483  4.681968\n",
       "2        my  0.103511  0.181687\n",
       "3       old  1.281798  4.238251\n",
       "4    friend  1.151035  3.681973\n",
       "5         I  0.477761  4.628732\n",
       "6        ve -2.486738 -1.497356\n",
       "7      come  0.205305 -1.383663\n",
       "8        to -3.815886  2.545706\n",
       "9      talk  1.586780  1.665821"
      ]
     },
     "execution_count": 188,
     "metadata": {},
     "output_type": "execute_result"
    }
   ],
   "source": [
    "points.head(10)"
   ]
  },
  {
   "cell_type": "code",
   "execution_count": 189,
   "metadata": {},
   "outputs": [],
   "source": [
    "sns.set_context(\"poster\")"
   ]
  },
  {
   "cell_type": "code",
   "execution_count": 190,
   "metadata": {},
   "outputs": [
    {
     "data": {
      "text/plain": [
       "<matplotlib.axes._subplots.AxesSubplot at 0x1a177f1b70>"
      ]
     },
     "execution_count": 190,
     "metadata": {},
     "output_type": "execute_result"
    },
    {
     "data": {
      "image/png": "[encoded data removed]",
      "text/plain": [
       "<Figure size 1440x864 with 1 Axes>"
      ]
     },
     "metadata": {},
     "output_type": "display_data"
    }
   ],
   "source": [
    "points.plot.scatter(\"x\", \"y\", s=10, figsize=(20, 12))"
   ]
  },
  {
   "cell_type": "markdown",
   "metadata": {
    "collapsed": true
   },
   "source": [
    "**Zoom in to some interesting places**"
   ]
  },
  {
   "cell_type": "code",
   "execution_count": 191,
   "metadata": {},
   "outputs": [],
   "source": [
    "def plot_region(x_bounds, y_bounds):\n",
    "    slice = points[\n",
    "        (x_bounds[0] <= points.x) &\n",
    "        (points.x <= x_bounds[1]) & \n",
    "        (y_bounds[0] <= points.y) &\n",
    "        (points.y <= y_bounds[1])\n",
    "    ]\n",
    "    \n",
    "    ax = slice.plot.scatter(\"x\", \"y\", s=35, c=None, figsize=(10, 8))\n",
    "    for i, point in slice.iterrows():\n",
    "        ax.text(point.x + 0.005, point.y + 0.005, point.word, fontsize=11)"
   ]
  },
  {
   "cell_type": "markdown",
   "metadata": {},
   "source": [
    "**Found the House Mottos!**"
   ]
  },
  {
   "cell_type": "code",
   "execution_count": 193,
   "metadata": {},
   "outputs": [
    {
     "data": {
      "image/png": "[encoded data removed]",
      "text/plain": [
       "<Figure size 720x576 with 1 Axes>"
      ]
     },
     "metadata": {},
     "output_type": "display_data"
    }
   ],
   "source": [
    "plot_region(x_bounds=(0, 2), y_bounds=(0, 2))"
   ]
  },
  {
   "cell_type": "markdown",
   "metadata": {},
   "source": [
    "**Can't find anything particularly interesting anymore :(**"
   ]
  },
  {
   "cell_type": "code",
   "execution_count": 195,
   "metadata": {},
   "outputs": [
    {
     "data": {
      "image/png": "[encoded data removed]",
      "text/plain": [
       "<Figure size 720x576 with 1 Axes>"
      ]
     },
     "metadata": {},
     "output_type": "display_data"
    }
   ],
   "source": [
    "plot_region(x_bounds=(-2, 0), y_bounds=(0, 5))"
   ]
  },
  {
   "cell_type": "markdown",
   "metadata": {},
   "source": [
    "### Explore semantic similarities between book characters"
   ]
  },
  {
   "cell_type": "markdown",
   "metadata": {},
   "source": [
    "**Words closest to the given word**"
   ]
  },
  {
   "cell_type": "code",
   "execution_count": 153,
   "metadata": {},
   "outputs": [
    {
     "name": "stderr",
     "output_type": "stream",
     "text": [
      "2018-08-03 13:34:18,418 : INFO : precomputing L2-norms of word weight vectors\n"
     ]
    },
    {
     "data": {
      "text/plain": [
       "[('That', 0.9995754957199097),\n",
       " ('split', 0.9995266795158386),\n",
       " ('its', 0.9995130300521851),\n",
       " ('saw', 0.9995115995407104),\n",
       " ('And', 0.9995067715644836),\n",
       " ('was', 0.9994991421699524),\n",
       " ('like', 0.9994968175888062),\n",
       " ('my', 0.9994938373565674),\n",
       " ('words', 0.9994784593582153),\n",
       " ('vision', 0.9994692206382751)]"
      ]
     },
     "execution_count": 153,
     "metadata": {},
     "output_type": "execute_result"
    }
   ],
   "source": [
    "song2vec.wv.most_similar(\"night\")"
   ]
  },
  {
   "cell_type": "code",
   "execution_count": 154,
   "metadata": {},
   "outputs": [
    {
     "data": {
      "text/plain": [
       "[('friend', 0.9997319579124451),\n",
       " ('old', 0.999729335308075),\n",
       " ('darkness', 0.9997223615646362),\n",
       " ('my', 0.9996058344841003),\n",
       " ('was', 0.9994905591011047),\n",
       " ('That', 0.9994666576385498),\n",
       " ('split', 0.999454140663147),\n",
       " ('People', 0.9994421601295471),\n",
       " ('one', 0.9994351863861084),\n",
       " ('Because', 0.9994219541549683)]"
      ]
     },
     "execution_count": 154,
     "metadata": {},
     "output_type": "execute_result"
    }
   ],
   "source": [
    "song2vec.wv.most_similar(\"Hello\")"
   ]
  },
  {
   "cell_type": "code",
   "execution_count": 157,
   "metadata": {},
   "outputs": [
    {
     "data": {
      "text/plain": [
       "[('darkness', 0.999733030796051),\n",
       " ('Hello', 0.9997320771217346),\n",
       " ('old', 0.9996963739395142),\n",
       " ('my', 0.9996210336685181),\n",
       " ('was', 0.9995285272598267),\n",
       " ('People', 0.9994772672653198),\n",
       " ('Silence', 0.9994669556617737),\n",
       " ('fell', 0.9994582533836365),\n",
       " ('like', 0.9994505643844604),\n",
       " ('and', 0.9994505047798157)]"
      ]
     },
     "execution_count": 157,
     "metadata": {},
     "output_type": "execute_result"
    }
   ],
   "source": [
    "song2vec.wv.most_similar(\"friend\")"
   ]
  },
  {
   "cell_type": "markdown",
   "metadata": {},
   "source": [
    "**Linear relationships between word pairs**"
   ]
  },
  {
   "cell_type": "code",
   "execution_count": 159,
   "metadata": {},
   "outputs": [],
   "source": [
    "def nearest_similarity_cosmul(start1, end1, end2):\n",
    "    similarities = song2vec.wv.most_similar_cosmul(\n",
    "        positive=[end2, start1],\n",
    "        negative=[end1]\n",
    "    )\n",
    "    start2 = similarities[0][0]\n",
    "    print(\"{start1} is related to {end1}, as {start2} is related to {end2}\".format(**locals()))\n",
    "    return start2"
   ]
  },
  {
   "cell_type": "code",
   "execution_count": 162,
   "metadata": {},
   "outputs": [
    {
     "name": "stdout",
     "output_type": "stream",
     "text": [
      "Hello is related to darkness, as old is related to friend\n"
     ]
    },
    {
     "data": {
      "text/plain": [
       "'old'"
      ]
     },
     "execution_count": 162,
     "metadata": {},
     "output_type": "execute_result"
    }
   ],
   "source": [
    "nearest_similarity_cosmul(\"Hello\", \"darkness\", \"friend\")"
   ]
  },
  {
   "cell_type": "code",
   "execution_count": null,
   "metadata": {},
   "outputs": [],
   "source": []
  },
  {
   "cell_type": "code",
   "execution_count": null,
   "metadata": {},
   "outputs": [],
   "source": []
  }
 ],
 "metadata": {
  "kernelspec": {
   "display_name": "Python 3",
   "language": "python",
   "name": "python3"
  },
  "language_info": {
   "codemirror_mode": {
    "name": "ipython",
    "version": 3
   },
   "file_extension": ".py",
   "mimetype": "text/x-python",
   "name": "python",
   "nbconvert_exporter": "python",
   "pygments_lexer": "ipython3",
   "version": "3.6.5"
  }
 },
 "nbformat": 4,
 "nbformat_minor": 1
}
